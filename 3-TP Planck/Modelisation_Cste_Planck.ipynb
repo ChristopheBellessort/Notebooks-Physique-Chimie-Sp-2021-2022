{
 "cells": [
  {
   "cell_type": "markdown",
   "metadata": {
    "tags": []
   },
   "source": [
    "# TP - Détermination de la constante de Planck - Traitement des mesures expérimentales à l'aide d'un programme Python - Version corrigée #"
   ]
  },
  {
   "cell_type": "markdown",
   "metadata": {},
   "source": [
    "<div class = \"alert alert-info\">\n",
    "\n",
    "# Objectif #\n",
    "    \n",
    "Cette feuille a pour objectif de vous faire mettre en pratique une méthode possible en Python pour obtenir une modélisation à partir de résultats expérimentaux. On s'appuie sur les mesures que vous avez réalisées lors de la séance de travaux pratiques **Détermination de la constante de Planck**.<br>\n",
    "On rappelle que cette détermination s'appuie essentiellement sur la représentation graphique de la tension de seuil des DEL en fonction de la fréquence des photons émis.<br>\n",
    "On rappelle cette relation : $U_{seuil}=\\dfrac{h}{e}\\times \\nu$<br>\n",
    "</div>"
   ]
  },
  {
   "cell_type": "markdown",
   "metadata": {},
   "source": [
    "<div class=\"alert alert-warning\">\n",
    "    \n",
    "# Utilisation du notebook #\n",
    "    \n",
    "Ce notebook contient des cellules de texte avec des explications et/ou des questions. Le cas échéant, vous pourrez répondre dans les cellules vides.<br>\n",
    "Les cellules de code Python, sont parfois à compléter avant d'être exécutée lorsque c'est indiqué. Si rien n'est spécifié, il faut les exécuter telles quelles.<br>\n",
    "    \n",
    "Pour exécuter une cellule de code :\n",
    "    \n",
    "- cliquer dans la cellule puis utiliser la combinaison de touches **MAJUSCULE + ENTRÉE** ou **SHIFT + ENTRÉE**.\n",
    "- cliquer dans la cellule et utiliser la fonction **Run** de la barre de menu.\n",
    "   \n",
    "</div>    "
   ]
  },
  {
   "cell_type": "markdown",
   "metadata": {
    "tags": []
   },
   "source": [
    "## Principe de la modélisation avec curvefit ##\n",
    "Cette méthode est particulièrement intéressante, car elle peut s'appliquer à des modélisations plus complexes que les fonctions affines rencontrées fréquemment.<br>\n",
    "Dans ce premier exemple, elle sera cependant exploitée sur une relation de type *linéaire*.<br>\n",
    "La modélisation s'effectue en deux temps :\n",
    "1. Définition dans le programme d'une *fonction* modèle qui prend comme arguments les coefficients du modèle et la grandeur en abscisse. **Elle renvoie la valeur en ordonnée par un *return***\n",
    "2. Calcul des coefficients avec la fonction *curve_fit* : *curve_fit* prend comme arguments le nom de la fonction modèle définie au point 1, la série de données expérimentales en abscisse ainsi que la série de données expérimentales en ordonnée. D'autres arguments peuvent être entrés pour faire face à des situations plus complexes. *curve_fit* renvoie une liste Python contenant les valeurs numériques des paramètres utilisés dans la fonction modèle définie au point 1."
   ]
  },
  {
   "cell_type": "markdown",
   "metadata": {},
   "source": [
    "## Construction pas à pas du programme ##\n",
    "Les cellules de code ci-dessous permettent d'exploiter les mesures de l'ensemble du groupe regroupées dans un fichier *mesures21-22.csv*.<br>\n",
    "Les mesures sont importées dans des listes via l'instruction Python *loadtxt* dont la syntaxe est donnée ci-dessous :<br>\n",
    "**f, Useuil=numpy.loadtxt(\"Chemin_Fichier\\Mesures_csv_Python.csv\", skiprows=1, delimiter=\";\", unpack=True, usecols=(0,1))**<br>\n",
    "Les différentes parties de cette commande sont détaillées dans la [boite à outils Python disponible en ligne ](https://xofe14.scenari-community.org/Publications/Formations/0_Boite_a_outils_Python_web/co/Importer_dans_listes.html).<br>\n",
    "Pour obtenir la modélisation et la valeur de la constante de Planck et les représentations graphiques, complétez les lignes de code en suivant les consignes en commentaire ou les questions posées."
   ]
  },
  {
   "cell_type": "code",
   "execution_count": null,
   "metadata": {},
   "outputs": [],
   "source": [
    "\"\"\"Importation des bibliothèques et fonctions nécessaires - NE PAS MODIFIER\"\"\"\n",
    "import matplotlib.pyplot as plt  # Bibliothèque graphique pour tracer les courbes et placer les points de mesure.\n",
    "from scipy.optimize import curve_fit  # Importation de la fonction de recherche du modèle.\n",
    "from numpy import loadtxt  # Fonction d'importation des mesures."
   ]
  },
  {
   "cell_type": "code",
   "execution_count": null,
   "metadata": {},
   "outputs": [],
   "source": [
    "\"\"\"On entre les deux listes f et Useuil, respectivement fréquence du photon émis et tension de seuil de la DEL\"\"\"\n",
    "f, Useuil = loadtxt(\"Mesures2122.csv\", skiprows=1, delimiter=\";\", unpack=True, usecols=(0, 1))"
   ]
  },
  {
   "cell_type": "markdown",
   "metadata": {},
   "source": [
    "On définit dans la cellule suivante la fonction *fontion_modele* à partir de la relation entre la tension de seuil et la fréquence.<br>\n",
    "Une étude théorique du problème a montré **la proportionnalité** entre la tension de seuil et la fréquence du photon émis.<br>\n",
    "Donc on peut écrire $Useuil = a \\times f$<br>\n",
    "Complétez la cellule de code ci-dessous qui définit une fonction modèle calculant Useuil à partir du coefficient directeur **a** et de la fréquence **frequence**."
   ]
  },
  {
   "cell_type": "code",
   "execution_count": null,
   "metadata": {},
   "outputs": [],
   "source": [
    "\"\"\"Définition du modèle : fonction linéaire, dont le seul paramètre est le coefficient directeur\"\"\"\n",
    "def fonction_modele(a, frequence):\n",
    "    U = a * frequence  # À COMPLÉTER AVEC L'EXPRESSION PERMETTANT DE CALCULER Useuil\n",
    "    return(U)\n",
    "\"\"\"Cette fonction renvoie la valeur de la tension de seuil quand on fournit le coefficient directeur et la fréquence\"\"\""
   ]
  },
  {
   "cell_type": "markdown",
   "metadata": {},
   "source": [
    "<div class = \"alert alert-info\">\n",
    "\n",
    "Testez *fonction_modele* ci-dessous avec une valeur du coefficient directeur égale à $5{,}0\\times 10^{-15}$ et de la fréquence égale à $4{,}50\\times 10^{14}$. Dans un programme Python, ces valeur s'écrivent respectivement **5.0e-15** et **4.50e14**.\n",
    "\n",
    "</div>"
   ]
  },
  {
   "cell_type": "code",
   "execution_count": null,
   "metadata": {},
   "outputs": [],
   "source": [
    "fonction_modele(5.0e-15, 4.5e14 )"
   ]
  },
  {
   "cell_type": "markdown",
   "metadata": {},
   "source": [
    "On obtient les coefficients intervenant dans un modèle en utilisant la fonction *curve_fit* avec la syntaxe suivante :<br>\n",
    "**coefficients = curve_fit(fonction_modele, série en X, série en Y)**<br>\n",
    "*coefficients* est une liste (en fait une liste de liste) contenant les valeurs des paramètres utilisés dans la fonction modèle. Ici, il n'y a qu'un seul paramètre : le coefficient directeur."
   ]
  },
  {
   "cell_type": "code",
   "execution_count": null,
   "metadata": {},
   "outputs": [],
   "source": [
    "\"\"\"Obtention des paramètres de la modélisation\"\"\"\n",
    "coefficients, covar = curve_fit(fonction_modele, f, Useuil)  # On reprend pour les séries en X et en Y les noms des listes utilisées pour la fréquence et la tension de seuil.\n",
    "k = coefficients[0]  # On stocke dans une variable k la valeur du coefficient directeur, premier terme de la liste coefficients.\n",
    "print(k)  # Affichage du coefficient directeur."
   ]
  },
  {
   "cell_type": "markdown",
   "metadata": {},
   "source": [
    "On calcule les valeurs correspondant à la **modélisation** avant de placer sur un même graphique les points expérimentaux et la droite modélisée.<br>\n",
    "On stocke les valeurs issues du modèle dans la liste *modeleUseuil* : pour chaque valeur de la fréquence *f*, on calcule la tension Useuil à l'aide du coefficient directeur déterminé précédemment."
   ]
  },
  {
   "cell_type": "code",
   "execution_count": null,
   "metadata": {},
   "outputs": [],
   "source": [
    "modeleUseuil = [fonction_modele(k, valeur_f) for valeur_f in f]  # Cette méthode de construction de liste est appelée liste en compréhension.\n",
    "print(modeleUseuil)  # Décommentez cette ligne si vous souhaitez afficher le résultat pour vérification."
   ]
  },
  {
   "cell_type": "markdown",
   "metadata": {},
   "source": [
    "À ce stade, nous avons toutes les données pour placer sur un graphique :\n",
    "- les points expérimentaux Useuil en fonction de la fréquence ;\n",
    "- la modélisation obtenue sous la forme d'une fonction linéaire.\n",
    "Le tracé des graphiques fait appel à la bibliothèque *pyplot* qu'on a renommé dans ce programme *plt* pour un appel plus pratique."
   ]
  },
  {
   "cell_type": "code",
   "execution_count": null,
   "metadata": {},
   "outputs": [],
   "source": [
    "plt.figure(1)  # Définition du graphique n°1\n",
    "plt.scatter(f, Useuil, color=\"blue\", marker = \"+\", label = \"Points expérimentaux\")  # On place les points (scatter) expérimentaux, avec des + rouges.\n",
    "plt.plot(f, modeleUseuil, color = \"red\", label = f\"Modélisation : Useuil = {k:.3e} x f\")  # On trace la fonction modèle, son étiquette est l'équation de la droite\n",
    "plt.xlabel(\"f (Hz)\")  # Étiquette de l'axe des abscisses\n",
    "plt.ylabel(\"Useuil\")  # Étiquette de l'axe des ordonnées\n",
    "plt.legend()  # Pour afficher la légende (les 'label')\n",
    "plt.grid()  # Affichage du quadrillage\n",
    "plt.show()  # Affichage du graphique"
   ]
  },
  {
   "cell_type": "markdown",
   "metadata": {},
   "source": [
    "Pour estimer la dispersion des points expérimentaux par rapport au modèle, on peut calculer pour chaque mesure son écart avec la modélisation. On place ces écarts dns une liste deltaUseuil.<br>\n",
    "On place ensuite ces écarts sur un graphique avec la ligne de référence confondue avec l'axe des abscisses."
   ]
  },
  {
   "cell_type": "code",
   "execution_count": null,
   "metadata": {},
   "outputs": [],
   "source": [
    "\"\"\"Calcul des écarts par rapport au modèle\"\"\"\n",
    "deltaUseuil = [Useuil[i] - modeleUseuil[i] for i in range(len(Useuil))]\n",
    "ref = []\n",
    "for i in range(len(Useuil)):\n",
    "    ref.append(0)"
   ]
  },
  {
   "cell_type": "code",
   "execution_count": null,
   "metadata": {},
   "outputs": [],
   "source": [
    "\"\"\"Tracé de la représentation graphique\"\"\"\n",
    "plt.figure(2)\n",
    "plt.plot(f, ref, color = \"red\", label = \"Référence\")  # Tracé de la ligne de référence Delta Useuil = 0\n",
    "plt.scatter(f, deltaUseuil, color = \"blue\", marker = \"+\", label = \"Écart avec le modèle\")  # On place les écarts par rapports au modèle\n",
    "plt.xlabel(\"f (Hz)\")  # Légende de l'axe des abscisses\n",
    "plt.ylabel(\"Delta Useuil (V)\")  #Légende de l'axe des ordonnées\n",
    "plt.legend()  # Affichage de la légende\n",
    "plt.grid()  # Affichage du quadrillage\n",
    "plt.show()  # Affichage du graphique"
   ]
  },
  {
   "cell_type": "markdown",
   "metadata": {},
   "source": [
    "On conclut avec le calcul de la valeur de la constante de Planck obtenue expérimentalement.<br>\n",
    "On rappelle que : $U_{seuil}=\\dfrac{h}{e}\\times \\nu$, avec $\\dfrac{h}{e} = k$, coefficient directeur obtenu précédemment."
   ]
  },
  {
   "cell_type": "code",
   "execution_count": null,
   "metadata": {},
   "outputs": [],
   "source": [
    "e = 1.602e-19  # Valeur de la charge électrique élémentaire\n",
    "hTheo = 6.63e-34  # Valeur théorique de la constante de Planck\n",
    "hExpe =  k * e # À COMPLÉTER AVEC LA RELATION PERMETTANT DE CALCULER CONSTANTE DE PLANCK EN FONCTION DE k ET e.\n",
    "ecartRel = abs(hTheo - hExpe) / hTheo * 100  # Calcul de l'écart relatif entre la valeur théorique et la valeur expérimentale\n",
    "\"\"\"Affichage des résultats\"\"\"\n",
    "print(f\"Valeur expérimentale de la constante de Planck : {hExpe:.2e} J.s\")\n",
    "print(f\"Écart relatif : e = {ecartRel:.1f} %\")"
   ]
  },
  {
   "cell_type": "raw",
   "metadata": {},
   "source": [
    "Écrivez vos remarques éventuelles ci-dessous :\n",
    "\n"
   ]
  }
 ],
 "metadata": {
  "kernelspec": {
   "display_name": "Python 3",
   "language": "python",
   "name": "python3"
  },
  "language_info": {
   "codemirror_mode": {
    "name": "ipython",
    "version": 3
   },
   "file_extension": ".py",
   "mimetype": "text/x-python",
   "name": "python",
   "nbconvert_exporter": "python",
   "pygments_lexer": "ipython3",
   "version": "3.8.10"
  }
 },
 "nbformat": 4,
 "nbformat_minor": 4
}
